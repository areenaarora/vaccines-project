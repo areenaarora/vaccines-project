{
 "cells": [
  {
   "cell_type": "code",
   "execution_count": 1,
   "id": "6cb67f45",
   "metadata": {},
   "outputs": [
    {
     "name": "stderr",
     "output_type": "stream",
     "text": [
      "/Users/areena.arora/.pyenv/versions/3.10.0/lib/python3.10/site-packages/pandas/compat/__init__.py:124: UserWarning: Could not import the lzma module. Your installed Python is incomplete. Attempting to use lzma compression will result in a RuntimeError.\n",
      "  warnings.warn(msg)\n"
     ]
    }
   ],
   "source": [
    "import pandas as pd\n",
    "from plotnine import *\n",
    "df = pd.read_excel('doses_by_manufacturer.xlsx')\n",
    "df.columns = df.columns.str.replace(\" \", \"_\")\n",
    "df.columns = df.columns.str.replace(\"-\", \"_\")\n",
    "df.columns = df.columns.str.lower()\n",
    "pd.set_option('display.max_rows', None)\n",
    "pd.set_option('display.max_columns', None)\n",
    "pd.options.display.float_format = '{:,.2f}'.format"
   ]
  },
  {
   "cell_type": "code",
   "execution_count": 2,
   "id": "329b4af4",
   "metadata": {},
   "outputs": [
    {
     "data": {
      "text/html": [
       "<div>\n",
       "<style scoped>\n",
       "    .dataframe tbody tr th:only-of-type {\n",
       "        vertical-align: middle;\n",
       "    }\n",
       "\n",
       "    .dataframe tbody tr th {\n",
       "        vertical-align: top;\n",
       "    }\n",
       "\n",
       "    .dataframe thead th {\n",
       "        text-align: right;\n",
       "    }\n",
       "</style>\n",
       "<table border=\"1\" class=\"dataframe\">\n",
       "  <thead>\n",
       "    <tr style=\"text-align: right;\">\n",
       "      <th></th>\n",
       "      <th>vaccine</th>\n",
       "      <th>number_of_doses</th>\n",
       "    </tr>\n",
       "  </thead>\n",
       "  <tbody>\n",
       "    <tr>\n",
       "      <th>0</th>\n",
       "      <td>Pfizer</td>\n",
       "      <td>330534759</td>\n",
       "    </tr>\n",
       "    <tr>\n",
       "      <th>1</th>\n",
       "      <td>Moderna</td>\n",
       "      <td>210254140</td>\n",
       "    </tr>\n",
       "    <tr>\n",
       "      <th>2</th>\n",
       "      <td>J&amp;J</td>\n",
       "      <td>18557893</td>\n",
       "    </tr>\n",
       "    <tr>\n",
       "      <th>3</th>\n",
       "      <td>Other</td>\n",
       "      <td>526848</td>\n",
       "    </tr>\n",
       "  </tbody>\n",
       "</table>\n",
       "</div>"
      ],
      "text/plain": [
       "   vaccine  number_of_doses\n",
       "0   Pfizer        330534759\n",
       "1  Moderna        210254140\n",
       "2      J&J         18557893\n",
       "3    Other           526848"
      ]
     },
     "execution_count": 2,
     "metadata": {},
     "output_type": "execute_result"
    }
   ],
   "source": [
    "df"
   ]
  },
  {
   "cell_type": "code",
   "execution_count": 3,
   "id": "016c852c",
   "metadata": {},
   "outputs": [],
   "source": [
    "import altair as alt"
   ]
  },
  {
   "cell_type": "code",
   "execution_count": 4,
   "id": "f2374fb7",
   "metadata": {},
   "outputs": [],
   "source": [
    "chart = alt.Chart(df)"
   ]
  },
  {
   "cell_type": "code",
   "execution_count": 5,
   "id": "a595f808",
   "metadata": {
    "scrolled": true
   },
   "outputs": [
    {
     "data": {
      "text/html": [
       "\n",
       "<div id=\"altair-viz-f0a07f8191b242dabb42fa1456273c8b\"></div>\n",
       "<script type=\"text/javascript\">\n",
       "  var VEGA_DEBUG = (typeof VEGA_DEBUG == \"undefined\") ? {} : VEGA_DEBUG;\n",
       "  (function(spec, embedOpt){\n",
       "    let outputDiv = document.currentScript.previousElementSibling;\n",
       "    if (outputDiv.id !== \"altair-viz-f0a07f8191b242dabb42fa1456273c8b\") {\n",
       "      outputDiv = document.getElementById(\"altair-viz-f0a07f8191b242dabb42fa1456273c8b\");\n",
       "    }\n",
       "    const paths = {\n",
       "      \"vega\": \"https://cdn.jsdelivr.net/npm//vega@5?noext\",\n",
       "      \"vega-lib\": \"https://cdn.jsdelivr.net/npm//vega-lib?noext\",\n",
       "      \"vega-lite\": \"https://cdn.jsdelivr.net/npm//vega-lite@4.17.0?noext\",\n",
       "      \"vega-embed\": \"https://cdn.jsdelivr.net/npm//vega-embed@6?noext\",\n",
       "    };\n",
       "\n",
       "    function maybeLoadScript(lib, version) {\n",
       "      var key = `${lib.replace(\"-\", \"\")}_version`;\n",
       "      return (VEGA_DEBUG[key] == version) ?\n",
       "        Promise.resolve(paths[lib]) :\n",
       "        new Promise(function(resolve, reject) {\n",
       "          var s = document.createElement('script');\n",
       "          document.getElementsByTagName(\"head\")[0].appendChild(s);\n",
       "          s.async = true;\n",
       "          s.onload = () => {\n",
       "            VEGA_DEBUG[key] = version;\n",
       "            return resolve(paths[lib]);\n",
       "          };\n",
       "          s.onerror = () => reject(`Error loading script: ${paths[lib]}`);\n",
       "          s.src = paths[lib];\n",
       "        });\n",
       "    }\n",
       "\n",
       "    function showError(err) {\n",
       "      outputDiv.innerHTML = `<div class=\"error\" style=\"color:red;\">${err}</div>`;\n",
       "      throw err;\n",
       "    }\n",
       "\n",
       "    function displayChart(vegaEmbed) {\n",
       "      vegaEmbed(outputDiv, spec, embedOpt)\n",
       "        .catch(err => showError(`Javascript Error: ${err.message}<br>This usually means there's a typo in your chart specification. See the javascript console for the full traceback.`));\n",
       "    }\n",
       "\n",
       "    if(typeof define === \"function\" && define.amd) {\n",
       "      requirejs.config({paths});\n",
       "      require([\"vega-embed\"], displayChart, err => showError(`Error loading script: ${err.message}`));\n",
       "    } else {\n",
       "      maybeLoadScript(\"vega\", \"5\")\n",
       "        .then(() => maybeLoadScript(\"vega-lite\", \"4.17.0\"))\n",
       "        .then(() => maybeLoadScript(\"vega-embed\", \"6\"))\n",
       "        .catch(showError)\n",
       "        .then(() => displayChart(vegaEmbed));\n",
       "    }\n",
       "  })({\"config\": {\"view\": {\"continuousWidth\": 400, \"continuousHeight\": 300}}, \"data\": {\"name\": \"data-774484ec18c6b91a50e5950f9ce019ce\"}, \"mark\": \"area\", \"encoding\": {\"x\": {\"field\": \"vaccine\", \"type\": \"nominal\"}, \"y\": {\"field\": \"number_of_doses\", \"stack\": null, \"type\": \"quantitative\"}}, \"$schema\": \"https://vega.github.io/schema/vega-lite/v4.17.0.json\", \"datasets\": {\"data-774484ec18c6b91a50e5950f9ce019ce\": [{\"vaccine\": \"Pfizer\", \"number_of_doses\": 330534759}, {\"vaccine\": \"Moderna\", \"number_of_doses\": 210254140}, {\"vaccine\": \"J&J\", \"number_of_doses\": 18557893}, {\"vaccine\": \"Other\", \"number_of_doses\": 526848}]}}, {\"mode\": \"vega-lite\"});\n",
       "</script>"
      ],
      "text/plain": [
       "alt.Chart(...)"
      ]
     },
     "execution_count": 5,
     "metadata": {},
     "output_type": "execute_result"
    }
   ],
   "source": [
    "alt.Chart(df).mark_area().encode(\n",
    "    x=\"vaccine\",\n",
    "    y=alt.Y(\"number_of_doses:Q\", stack=None)\n",
    ")"
   ]
  },
  {
   "cell_type": "code",
   "execution_count": 6,
   "id": "c1ccee35",
   "metadata": {},
   "outputs": [
    {
     "data": {
      "text/html": [
       "\n",
       "<div id=\"altair-viz-9cd0715650994455a484d44a6c08a548\"></div>\n",
       "<script type=\"text/javascript\">\n",
       "  var VEGA_DEBUG = (typeof VEGA_DEBUG == \"undefined\") ? {} : VEGA_DEBUG;\n",
       "  (function(spec, embedOpt){\n",
       "    let outputDiv = document.currentScript.previousElementSibling;\n",
       "    if (outputDiv.id !== \"altair-viz-9cd0715650994455a484d44a6c08a548\") {\n",
       "      outputDiv = document.getElementById(\"altair-viz-9cd0715650994455a484d44a6c08a548\");\n",
       "    }\n",
       "    const paths = {\n",
       "      \"vega\": \"https://cdn.jsdelivr.net/npm//vega@5?noext\",\n",
       "      \"vega-lib\": \"https://cdn.jsdelivr.net/npm//vega-lib?noext\",\n",
       "      \"vega-lite\": \"https://cdn.jsdelivr.net/npm//vega-lite@4.17.0?noext\",\n",
       "      \"vega-embed\": \"https://cdn.jsdelivr.net/npm//vega-embed@6?noext\",\n",
       "    };\n",
       "\n",
       "    function maybeLoadScript(lib, version) {\n",
       "      var key = `${lib.replace(\"-\", \"\")}_version`;\n",
       "      return (VEGA_DEBUG[key] == version) ?\n",
       "        Promise.resolve(paths[lib]) :\n",
       "        new Promise(function(resolve, reject) {\n",
       "          var s = document.createElement('script');\n",
       "          document.getElementsByTagName(\"head\")[0].appendChild(s);\n",
       "          s.async = true;\n",
       "          s.onload = () => {\n",
       "            VEGA_DEBUG[key] = version;\n",
       "            return resolve(paths[lib]);\n",
       "          };\n",
       "          s.onerror = () => reject(`Error loading script: ${paths[lib]}`);\n",
       "          s.src = paths[lib];\n",
       "        });\n",
       "    }\n",
       "\n",
       "    function showError(err) {\n",
       "      outputDiv.innerHTML = `<div class=\"error\" style=\"color:red;\">${err}</div>`;\n",
       "      throw err;\n",
       "    }\n",
       "\n",
       "    function displayChart(vegaEmbed) {\n",
       "      vegaEmbed(outputDiv, spec, embedOpt)\n",
       "        .catch(err => showError(`Javascript Error: ${err.message}<br>This usually means there's a typo in your chart specification. See the javascript console for the full traceback.`));\n",
       "    }\n",
       "\n",
       "    if(typeof define === \"function\" && define.amd) {\n",
       "      requirejs.config({paths});\n",
       "      require([\"vega-embed\"], displayChart, err => showError(`Error loading script: ${err.message}`));\n",
       "    } else {\n",
       "      maybeLoadScript(\"vega\", \"5\")\n",
       "        .then(() => maybeLoadScript(\"vega-lite\", \"4.17.0\"))\n",
       "        .then(() => maybeLoadScript(\"vega-embed\", \"6\"))\n",
       "        .catch(showError)\n",
       "        .then(() => displayChart(vegaEmbed));\n",
       "    }\n",
       "  })({\"config\": {\"view\": {\"continuousWidth\": 400, \"continuousHeight\": 300}}, \"data\": {\"name\": \"data-774484ec18c6b91a50e5950f9ce019ce\"}, \"mark\": {\"type\": \"bar\", \"size\": 55}, \"encoding\": {\"color\": {\"field\": \"vaccine\", \"type\": \"nominal\"}, \"x\": {\"field\": \"vaccine\", \"type\": \"nominal\"}, \"y\": {\"field\": \"number_of_doses\", \"stack\": null, \"type\": \"quantitative\"}}, \"height\": 450, \"width\": 500, \"$schema\": \"https://vega.github.io/schema/vega-lite/v4.17.0.json\", \"datasets\": {\"data-774484ec18c6b91a50e5950f9ce019ce\": [{\"vaccine\": \"Pfizer\", \"number_of_doses\": 330534759}, {\"vaccine\": \"Moderna\", \"number_of_doses\": 210254140}, {\"vaccine\": \"J&J\", \"number_of_doses\": 18557893}, {\"vaccine\": \"Other\", \"number_of_doses\": 526848}]}}, {\"mode\": \"vega-lite\"});\n",
       "</script>"
      ],
      "text/plain": [
       "alt.Chart(...)"
      ]
     },
     "execution_count": 6,
     "metadata": {},
     "output_type": "execute_result"
    }
   ],
   "source": [
    "alt.Chart(df).mark_bar(size=55).encode(\n",
    "    x=\"vaccine\",\n",
    "    y=alt.Y(\"number_of_doses:Q\", stack=None),\n",
    "    color='vaccine'\n",
    ").properties(\n",
    "    width=500,\n",
    "    height=450\n",
    ")"
   ]
  },
  {
   "cell_type": "code",
   "execution_count": 7,
   "id": "248e4ff5",
   "metadata": {},
   "outputs": [
    {
     "data": {
      "text/html": [
       "\n",
       "<div id=\"altair-viz-1e294cf825934d8398b29927ea534d11\"></div>\n",
       "<script type=\"text/javascript\">\n",
       "  var VEGA_DEBUG = (typeof VEGA_DEBUG == \"undefined\") ? {} : VEGA_DEBUG;\n",
       "  (function(spec, embedOpt){\n",
       "    let outputDiv = document.currentScript.previousElementSibling;\n",
       "    if (outputDiv.id !== \"altair-viz-1e294cf825934d8398b29927ea534d11\") {\n",
       "      outputDiv = document.getElementById(\"altair-viz-1e294cf825934d8398b29927ea534d11\");\n",
       "    }\n",
       "    const paths = {\n",
       "      \"vega\": \"https://cdn.jsdelivr.net/npm//vega@5?noext\",\n",
       "      \"vega-lib\": \"https://cdn.jsdelivr.net/npm//vega-lib?noext\",\n",
       "      \"vega-lite\": \"https://cdn.jsdelivr.net/npm//vega-lite@4.17.0?noext\",\n",
       "      \"vega-embed\": \"https://cdn.jsdelivr.net/npm//vega-embed@6?noext\",\n",
       "    };\n",
       "\n",
       "    function maybeLoadScript(lib, version) {\n",
       "      var key = `${lib.replace(\"-\", \"\")}_version`;\n",
       "      return (VEGA_DEBUG[key] == version) ?\n",
       "        Promise.resolve(paths[lib]) :\n",
       "        new Promise(function(resolve, reject) {\n",
       "          var s = document.createElement('script');\n",
       "          document.getElementsByTagName(\"head\")[0].appendChild(s);\n",
       "          s.async = true;\n",
       "          s.onload = () => {\n",
       "            VEGA_DEBUG[key] = version;\n",
       "            return resolve(paths[lib]);\n",
       "          };\n",
       "          s.onerror = () => reject(`Error loading script: ${paths[lib]}`);\n",
       "          s.src = paths[lib];\n",
       "        });\n",
       "    }\n",
       "\n",
       "    function showError(err) {\n",
       "      outputDiv.innerHTML = `<div class=\"error\" style=\"color:red;\">${err}</div>`;\n",
       "      throw err;\n",
       "    }\n",
       "\n",
       "    function displayChart(vegaEmbed) {\n",
       "      vegaEmbed(outputDiv, spec, embedOpt)\n",
       "        .catch(err => showError(`Javascript Error: ${err.message}<br>This usually means there's a typo in your chart specification. See the javascript console for the full traceback.`));\n",
       "    }\n",
       "\n",
       "    if(typeof define === \"function\" && define.amd) {\n",
       "      requirejs.config({paths});\n",
       "      require([\"vega-embed\"], displayChart, err => showError(`Error loading script: ${err.message}`));\n",
       "    } else {\n",
       "      maybeLoadScript(\"vega\", \"5\")\n",
       "        .then(() => maybeLoadScript(\"vega-lite\", \"4.17.0\"))\n",
       "        .then(() => maybeLoadScript(\"vega-embed\", \"6\"))\n",
       "        .catch(showError)\n",
       "        .then(() => displayChart(vegaEmbed));\n",
       "    }\n",
       "  })({\"config\": {\"view\": {\"continuousWidth\": 400, \"continuousHeight\": 300}}, \"data\": {\"name\": \"data-774484ec18c6b91a50e5950f9ce019ce\"}, \"mark\": {\"type\": \"bar\", \"size\": 95}, \"encoding\": {\"color\": {\"field\": \"vaccine\", \"type\": \"nominal\"}, \"x\": {\"field\": \"vaccine\", \"type\": \"nominal\"}, \"y\": {\"field\": \"number_of_doses\", \"type\": \"quantitative\"}}, \"height\": 400, \"width\": 450, \"$schema\": \"https://vega.github.io/schema/vega-lite/v4.17.0.json\", \"datasets\": {\"data-774484ec18c6b91a50e5950f9ce019ce\": [{\"vaccine\": \"Pfizer\", \"number_of_doses\": 330534759}, {\"vaccine\": \"Moderna\", \"number_of_doses\": 210254140}, {\"vaccine\": \"J&J\", \"number_of_doses\": 18557893}, {\"vaccine\": \"Other\", \"number_of_doses\": 526848}]}}, {\"mode\": \"vega-lite\"});\n",
       "</script>"
      ],
      "text/plain": [
       "alt.Chart(...)"
      ]
     },
     "execution_count": 7,
     "metadata": {},
     "output_type": "execute_result"
    }
   ],
   "source": [
    "chart = alt.Chart(df)\n",
    "alt.Chart(df).mark_bar(size=95).encode(\n",
    "    x=\"vaccine\",\n",
    "    y=alt.Y(\"number_of_doses\"),\n",
    "    color='vaccine'\n",
    ").properties(\n",
    "    width=450,\n",
    "    height=400\n",
    ")\n",
    "# chart.save('vaccines.svg')\n",
    "\n",
    "# chart.save('chart.svg')"
   ]
  },
  {
   "cell_type": "code",
   "execution_count": 13,
   "id": "10af5c95",
   "metadata": {},
   "outputs": [],
   "source": [
    "#Import libraries\n",
    "from matplotlib_venn import venn2, venn2_circles, venn2_unweighted\n",
    "from matplotlib_venn import venn3, venn3_circles\n",
    "from matplotlib import pyplot as plt\n",
    "%matplotlib inline"
   ]
  },
  {
   "cell_type": "code",
   "execution_count": 14,
   "id": "ec9314f5",
   "metadata": {},
   "outputs": [],
   "source": [
    "# venn2_unweighted(subsets = (30, 10, 5), set_labels = ('Group A', 'Group B'), set_colors=('r', 'g'), alpha = 0.5);"
   ]
  },
  {
   "cell_type": "code",
   "execution_count": 20,
   "id": "1fccddc7",
   "metadata": {},
   "outputs": [
    {
     "data": {
      "image/png": "[encoded data removed]",
      "text/plain": [
       "<Figure size 432x288 with 1 Axes>"
      ]
     },
     "metadata": {},
     "output_type": "display_data"
    },
    {
     "data": {
      "text/plain": [
       "<Figure size 288x288 with 0 Axes>"
      ]
     },
     "metadata": {},
     "output_type": "display_data"
    },
    {
     "data": {
      "text/plain": [
       "<Figure size 432x288 with 0 Axes>"
      ]
     },
     "metadata": {},
     "output_type": "display_data"
    }
   ],
   "source": [
    "Pfizer = set(['Nucleoside-modified mRNA encoding the viral spike (S) glycoprotein of SARS-CoV-2', '2[(polyethylene glycol (PEG))-2000]-N,N-ditetradecylacetamide', '1,2-distearoyl-sn-glycero-3-phosphocholine',\n",
    "             'Cholesterol (plant derived)', '((4-hydroxybutyl)azanediyl)bis(hexane-6,1-diyl)bis(2-hexyldecanoate)',\n",
    "             'Sucrose (table sugar)', 'Tromethamine', 'Tromethamine hydrochloride'])\n",
    "\n",
    "Moderna = set(['Nucleoside-modified mRNA encoding the viral spike (S) glycoprotein of SARS-CoV-2', 'PEG2000-DMG: 1,2-dimyristoyl-rac-glycerol, methoxypolyethylene glycol',\n",
    "               '1,2-distearoyl-sn-glycero-3-phosphocholine', 'BotaniChol® (non-animal origin cholesterol)', \n",
    "              'SM-102: heptadecane-9-yl 8-((2-hydroxyethyl) (6-oxo-6-(undecyloxy) hexyl) amino) octanoate',\n",
    "              'Sodium acetate', 'Sucrose (basic table sugar)', 'Tromethamine', 'Tromethamine hydrochloride',\n",
    "              'Acetic acid (the main ingredient in white household vinegar)'])\n",
    "\n",
    "JJ = set(['A stabilized SARS-CoV-2 Spike (S) protein variant', 'Polysorbate-80', \n",
    "           '2-hydroxypropyl-β-cyclodextrin', 'Trisodium citrate dihydrate', 'Sodium chloride (basic table salt)',\n",
    "          'Citric acid monohydrate (closely related to lemon juice)', 'Ethanol (a type of alcohol)'])\n",
    "\n",
    "venn = venn3([Pfizer, Moderna, JJ], ('Pfizer', 'Moderna', 'J&J'))\n",
    "# plt.title(\"Sample Venn diagram\")\n",
    "plt.figure(figsize=(4,4))\n",
    "plt.show()\n",
    "# plt.savefig(\"venn.svg\")\n",
    "# plt.savefig(venn+'venn1A.svg')\n",
    "\n",
    "plt.savefig('test.png')"
   ]
  },
  {
   "cell_type": "code",
   "execution_count": 11,
   "id": "92e9fe55",
   "metadata": {},
   "outputs": [
    {
     "ename": "TypeError",
     "evalue": "venn3() got an unexpected keyword argument 'figsize'",
     "output_type": "error",
     "traceback": [
      "\u001b[0;31m---------------------------------------------------------------------------\u001b[0m",
      "\u001b[0;31mTypeError\u001b[0m                                 Traceback (most recent call last)",
      "\u001b[0;32m/var/folders/81/2s24wkdd02j9528vnjsx7m080000gn/T/ipykernel_53213/3961457934.py\u001b[0m in \u001b[0;36m<module>\u001b[0;34m\u001b[0m\n\u001b[1;32m     13\u001b[0m           'Citric acid monohydrate (closely related to lemon juice)', 'Ethanol (a type of alcohol)'])\n\u001b[1;32m     14\u001b[0m \u001b[0;34m\u001b[0m\u001b[0m\n\u001b[0;32m---> 15\u001b[0;31m \u001b[0mvenn3\u001b[0m\u001b[0;34m(\u001b[0m\u001b[0;34m[\u001b[0m\u001b[0mPfizer\u001b[0m\u001b[0;34m,\u001b[0m \u001b[0mModerna\u001b[0m\u001b[0;34m,\u001b[0m \u001b[0mJJ\u001b[0m\u001b[0;34m]\u001b[0m\u001b[0;34m,\u001b[0m \u001b[0;34m(\u001b[0m\u001b[0;34m'Pfizer'\u001b[0m\u001b[0;34m,\u001b[0m \u001b[0;34m'Moderna'\u001b[0m\u001b[0;34m,\u001b[0m \u001b[0;34m'J&J'\u001b[0m\u001b[0;34m)\u001b[0m\u001b[0;34m,\u001b[0m \u001b[0mfigsize\u001b[0m \u001b[0;34m=\u001b[0m \u001b[0;34m(\u001b[0m\u001b[0;36m10\u001b[0m\u001b[0;34m,\u001b[0m\u001b[0;36m20\u001b[0m\u001b[0;34m)\u001b[0m\u001b[0;34m)\u001b[0m\u001b[0;34m\u001b[0m\u001b[0;34m\u001b[0m\u001b[0m\n\u001b[0m",
      "\u001b[0;31mTypeError\u001b[0m: venn3() got an unexpected keyword argument 'figsize'"
     ]
    }
   ],
   "source": [
    "Pfizer = set(['Nucleoside-modified mRNA encoding the viral spike (S) glycoprotein of SARS-CoV-2', '2[(polyethylene glycol (PEG))-2000]-N,N-ditetradecylacetamide', '1,2-distearoyl-sn-glycero-3-phosphocholine',\n",
    "             'Cholesterol (plant derived)', '((4-hydroxybutyl)azanediyl)bis(hexane-6,1-diyl)bis(2-hexyldecanoate)',\n",
    "             'Sucrose (table sugar)', 'Tromethamine', 'Tromethamine hydrochloride'])\n",
    "\n",
    "Moderna = set(['Nucleoside-modified mRNA encoding the viral spike (S) glycoprotein of SARS-CoV-2', 'PEG2000-DMG: 1,2-dimyristoyl-rac-glycerol, methoxypolyethylene glycol',\n",
    "               '1,2-distearoyl-sn-glycero-3-phosphocholine', 'BotaniChol® (non-animal origin cholesterol)', \n",
    "              'SM-102: heptadecane-9-yl 8-((2-hydroxyethyl) (6-oxo-6-(undecyloxy) hexyl) amino) octanoate',\n",
    "              'Sodium acetate', 'Sucrose (basic table sugar)', 'Tromethamine', 'Tromethamine hydrochloride',\n",
    "              'Acetic acid (the main ingredient in white household vinegar)'])\n",
    "\n",
    "JJ = set(['A stabilized SARS-CoV-2 Spike (S) protein variant', 'Polysorbate-80', \n",
    "           '2-hydroxypropyl-β-cyclodextrin', 'Trisodium citrate dihydrate', 'Sodium chloride (basic table salt)',\n",
    "          'Citric acid monohydrate (closely related to lemon juice)', 'Ethanol (a type of alcohol)'])\n",
    "\n",
    "venn3([Pfizer, Moderna, JJ], ('Pfizer', 'Moderna', 'J&J'), figsize = (10,20))"
   ]
  },
  {
   "cell_type": "code",
   "execution_count": null,
   "id": "f9b37fe6",
   "metadata": {},
   "outputs": [],
   "source": []
  }
 ],
 "metadata": {
  "kernelspec": {
   "display_name": "Python 3 (ipykernel)",
   "language": "python",
   "name": "python3"
  },
  "language_info": {
   "codemirror_mode": {
    "name": "ipython",
    "version": 3
   },
   "file_extension": ".py",
   "mimetype": "text/x-python",
   "name": "python",
   "nbconvert_exporter": "python",
   "pygments_lexer": "ipython3",
   "version": "3.10.0"
  }
 },
 "nbformat": 4,
 "nbformat_minor": 5
}
